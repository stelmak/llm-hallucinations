{
  "nbformat": 4,
  "nbformat_minor": 0,
  "metadata": {
    "colab": {
      "provenance": [],
      "authorship_tag": "ABX9TyOeuAtynGTqJML9emHcIn/V",
      "include_colab_link": true
    },
    "kernelspec": {
      "name": "python3",
      "display_name": "Python 3"
    },
    "language_info": {
      "name": "python"
    }
  },
  "cells": [
    {
      "cell_type": "markdown",
      "metadata": {
        "id": "view-in-github",
        "colab_type": "text"
      },
      "source": [
        "<a href=\"https://colab.research.google.com/github/vifirsanova/llm-hallucinations/blob/main/plan.ipynb\" target=\"_parent\"><img src=\"https://colab.research.google.com/assets/colab-badge.svg\" alt=\"Open In Colab\"/></a>"
      ]
    },
    {
      "cell_type": "markdown",
      "source": [
        "# Tools\n",
        "\n",
        "- LangChain\n",
        "- HuggingFace Datasets"
      ],
      "metadata": {
        "id": "eRWPnmopC8gH"
      }
    },
    {
      "cell_type": "markdown",
      "source": [
        "# Dataset Requirements\n",
        "\n",
        "- Scope: Data type and format\n",
        "- Size: Smaller dataset, synthetic data\n",
        "- Aim: Find prompts inducing hallucinations, change phrasing\n",
        "- Model attacks"
      ],
      "metadata": {
        "id": "eBul4VrQDUMR"
      }
    },
    {
      "cell_type": "markdown",
      "source": [
        "# Synthetic Data: Intristic Hallucinations\n",
        "\n",
        "- Define prompts for data generation\n",
        "- Sample golden examples and violating roles manually\n",
        "- Sample for intristic hallucinations:\n",
        "  - Disambiguation\n",
        "  - User prompt\n",
        "\n",
        "**Prompt structure**:\n",
        "\n",
        "`{Context}{Task}`\n",
        "\n",
        "Context: low resource domain / fake stories\n",
        "\n",
        "Task: question answering, not factoid (truthfulness)\n",
        "\n",
        "**Requirements**: Context > Ambiguation (semantics)\n",
        "\n",
        "**Hallucination**: Context != Output (according to vector similarity, M3)\n",
        "\n",
        "**Method**:\n",
        "\n",
        "- Topic modeling UMAP\n",
        "\n",
        "- Embedding spaces\n",
        "\n",
        "**Evaluation:**\n",
        "\n",
        "- M3 ...\n",
        "- LLM: open source, Llama, Mistral, GPT 3.5, Apple LM"
      ],
      "metadata": {
        "id": "GHsR9qIKD2dX"
      }
    },
    {
      "cell_type": "markdown",
      "source": [
        "# Similarity Assessment\n",
        "\n",
        "- Model vector space with hallucination\n",
        "\n",
        "- Model vector space without hallucination\n",
        "\n",
        "- Map 2 spaces"
      ],
      "metadata": {
        "id": "HY1PlrvhLLSI"
      }
    },
    {
      "cell_type": "markdown",
      "source": [
        "- посмотреть датасеты\n",
        "\n",
        "- посмотреть модели для eval\n",
        "\n",
        "- структура и содержание промпта, где будет омонимия: учебники (?)"
      ],
      "metadata": {
        "id": "PORQMTLbOXMu"
      }
    }
  ]
}